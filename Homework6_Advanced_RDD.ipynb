{
 "nbformat": 4,
 "nbformat_minor": 0,
 "metadata": {
  "colab": {
   "name": "Homework6_Advanced_RDD.ipynb",
   "provenance": [],
   "collapsed_sections": []
  },
  "kernelspec": {
   "name": "python3",
   "display_name": "Python 3"
  }
 },
 "cells": [
  {
   "cell_type": "markdown",
   "metadata": {
    "id": "4FugKl36uD_X"
   },
   "source": [
    "# ECE795 Advanced Big Data Analytics Homework 6 (Due 4/14/2022, 100 Total Points)\n",
    "\n",
    "Please create a Dataproc cluster in Google Cloud Platform, access the master node using ssh, and answer the following questions.\n",
    "\n",
    "In your answers, please provide necessary contents, including commands, screenshots and the outputs of the commands.\n",
    "\n",
    "## Access HDFS with Command Line in Google Cloud"
   ]
  },
  {
   "cell_type": "markdown",
   "metadata": {
    "id": "T5md8JSmxmBC"
   },
   "source": [
    "### Q1 (10 points). Please describe how you ssh to the master node of your Dataproc cluster."
   ]
  },
  {
   "cell_type": "code",
   "metadata": {
    "id": "0edJYz63x69n"
   },
   "source": [
    "# Your answer"
   ],
   "execution_count": null,
   "outputs": []
  },
  {
   "cell_type": "markdown",
   "metadata": {
    "id": "81kUtuf9xoCz"
   },
   "source": [
    "### Q2 (10 points). What are the contents in the root directory and /user directory in HDFS?\n"
   ]
  },
  {
   "cell_type": "code",
   "metadata": {
    "id": "6efyFJXDx89I"
   },
   "source": [
    "# Your answer"
   ],
   "execution_count": null,
   "outputs": []
  },
  {
   "cell_type": "markdown",
   "metadata": {
    "id": "QxwUcoHCxptK"
   },
   "source": [
    "### Q3 (10 points). Create a folder called \"data\" in your home directory in HDFS (/user/your_username). Download the file from Google Cloud Storage by the provided command and upload the file `kinglear.txt` to your home directory in HDFS. "
   ]
  },
  {
   "cell_type": "code",
   "metadata": {
    "id": "c-Hip7I4x6oB"
   },
   "source": [
    "gsutil cat \"gs://dataflow-samples/shakespeare/kinglear.txt\" > kinglear.txt"
   ],
   "execution_count": null,
   "outputs": []
  },
  {
   "cell_type": "code",
   "metadata": {
    "id": "VBE2kLxvx9eF"
   },
   "source": [
    "# Your answer"
   ],
   "execution_count": null,
   "outputs": []
  },
  {
   "cell_type": "markdown",
   "metadata": {
    "id": "av2wj8lnyA9V"
   },
   "source": [
    "### Q4 (10 points). In your home directory in HDFS, execute the provided command that creates a folder called `dir_example` as well as the contents inside the folder. Then remove the entire folder.\n"
   ]
  },
  {
   "cell_type": "code",
   "metadata": {
    "id": "dOjN5fCn0ajl"
   },
   "source": [
    "bash -c -v \"mkdir dir_example; touch dir_example/{a..z}.txt\""
   ],
   "execution_count": null,
   "outputs": []
  },
  {
   "cell_type": "code",
   "metadata": {
    "id": "52g12FjR0mmx"
   },
   "source": [
    "# Your answer"
   ],
   "execution_count": null,
   "outputs": []
  },
  {
   "cell_type": "markdown",
   "metadata": {
    "id": "jewO62RE0nvz"
   },
   "source": [
    "### Q5 (10 points). Print the first 10 lines in the file `kinglear.txt` stored in HDFS"
   ]
  },
  {
   "cell_type": "code",
   "metadata": {
    "id": "uyBujQEZ02Zm"
   },
   "source": [
    "# Your answer"
   ],
   "execution_count": null,
   "outputs": []
  },
  {
   "cell_type": "markdown",
   "metadata": {
    "id": "KaxsqO240377"
   },
   "source": [
    "### Q6 (20 points). Write a PySpark program to perform word count on `kinglear.txt`. Save the output to HDFS."
   ]
  },
  {
   "cell_type": "code",
   "metadata": {
    "id": "e1Hu1NwF1HsW"
   },
   "source": [
    "# Your answer"
   ],
   "execution_count": null,
   "outputs": []
  },
  {
   "cell_type": "markdown",
   "metadata": {
    "id": "T0lnp6Kn1Imu"
   },
   "source": [
    "### Q7 (10 points). Download your output file to the local storage of the master node."
   ]
  },
  {
   "cell_type": "code",
   "metadata": {
    "id": "67jnDbAL1QHj"
   },
   "source": [
    "# Your answer"
   ],
   "execution_count": null,
   "outputs": []
  },
  {
   "cell_type": "markdown",
   "metadata": {
    "id": "ddnMH7qL1i3G"
   },
   "source": [
    "### Q8 (20 points). Modify the word count program and save the output as avro or parquet formats."
   ]
  },
  {
   "cell_type": "code",
   "metadata": {
    "id": "aoq_obo41iEi"
   },
   "source": [
    "# Your answer"
   ],
   "execution_count": null,
   "outputs": []
  }
 ]
}