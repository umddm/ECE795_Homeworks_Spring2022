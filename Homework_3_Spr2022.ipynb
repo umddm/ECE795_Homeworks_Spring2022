{
  "nbformat": 4,
  "nbformat_minor": 0,
  "metadata": {
    "colab": {
      "name": "Homework_3_Spr2022.ipynb",
      "provenance": [],
      "collapsed_sections": []
    },
    "kernelspec": {
      "name": "python3",
      "display_name": "Python 3"
    }
  },
  "cells": [
    {
      "cell_type": "markdown",
      "metadata": {
        "id": "sq8U3BtmhtRx"
      },
      "source": [
        "\n",
        "# ECE795 Advanced Big Data Analytics Homework 3 (Due 2/24)\n",
        "\n",
        "Set up Pyspark Environment.\n",
        "\n",
        "Tips for Colab:\n",
        "\n",
        "1. You will be disconnected if you are idle for more than 90 minutes and will be mandatorily disconnected after 12 hour connection. \n",
        "\n",
        "2. Once you got disconnected, you need to execute the codes from the beginning to setup the environment again.\n",
        "\n",
        "3. For the purpose of homework, it should be sufficient since each problem should not take more than 5 minutes to generate the results.\n",
        "\n",
        "4. To facilitate the use of Colab, you can use \"MainMenu - Runtime - Run all” to run all the cells in the notebook. So you do not have to click each cell to setup the environment."
      ]
    },
    {
      "cell_type": "code",
      "metadata": {
        "id": "lh5NCoc8fsSO"
      },
      "source": [
        "!pip install pyspark\n",
        "!pip install -q findspark\n",
        "\n",
        "import findspark\n",
        "findspark.init()\n",
        "from pyspark.sql import SparkSession\n",
        "spark = SparkSession.builder.master(\"local[*]\").getOrCreate()"
      ],
      "execution_count": null,
      "outputs": []
    },
    {
      "cell_type": "markdown",
      "metadata": {
        "id": "JEb4HTRwiaJx"
      },
      "source": [
        "Congrats! Your Colab is ready to run Pyspark.\n",
        "\n",
        "# Read input text file to RDD \n",
        "\n",
        "Download the input data from using the following command."
      ]
    },
    {
      "cell_type": "code",
      "metadata": {
        "id": "PAISFqHXf7dt"
      },
      "source": [
        "!wget https://raw.githubusercontent.com/umddm/ECE795_Homeworks_Spring2022/homework_3/Gutenberg.txt"
      ],
      "execution_count": null,
      "outputs": []
    },
    {
      "cell_type": "markdown",
      "metadata": {
        "id": "21D9EANUvnwF"
      },
      "source": [
        "Now that we have input data, we can start to do the homework. \n",
        "\n",
        "## Question 1 (10 points): The following RDD, 'words', is obtained from Homework 2, Question 3. It contains all the words in the text file, 'Gutenberg.txt', after pre-processing. Using this RDD, please create another RDD called 'frequencies' that contains the term frequencies of all words.\n",
        "\n",
        "### Example output from 'frequencies.take(10)':\n",
        "```\n",
        "[('project', 95),\n",
        " ('ten', 208),\n",
        " ('use', 35),\n",
        " ('anyone', 5),\n",
        " ('anywhere', 6),\n",
        " ('united', 20),\n",
        " ('world', 39),\n",
        " ('whatsoever', 2),\n",
        " ('may', 84),\n",
        " ('give', 155)]\n",
        "```"
      ]
    },
    {
      "cell_type": "code",
      "metadata": {
        "id": "0ZeJ7WQCgM8g"
      },
      "source": [
        "#Question_1:\n",
        "from pyspark import SparkConf, SparkContext\n",
        "import nltk\n",
        "nltk.download('stopwords')\n",
        "nltk.download('words')\n",
        "stop_words = set(nltk.corpus.stopwords.words('english'))\n",
        "english_words = set(nltk.corpus.words.words())\n",
        "\n",
        "def removeNonAlpabet(s):\n",
        "    return ''.join([i.lower() for i in s if i.isalpha() or i==' ']).lstrip().rstrip()\n",
        "\n",
        "sc = SparkContext.getOrCreate()\n",
        "sentences = sc.textFile('Gutenberg.txt').map(removeNonAlpabet).filter(lambda x: x!='')\n",
        "\n",
        "#Fill out here\n",
        "words = sentences.#"
      ],
      "execution_count": null,
      "outputs": []
    },
    {
      "cell_type": "markdown",
      "metadata": {
        "id": "Y3vYyp5dwOm_"
      },
      "source": [
        "## Question 2 (10 points): For the 'frequencies' RDD in Question 1, normalize the values of term frequencies so that for every feature, the minimum value of that feature gets transformed into a 0, the maximum value gets transformed into a 1, and every other value gets converted into a decimal between 0 and 1 (also referred to as Min-Max normalization).\n",
        "\n",
        "The min-max normalized term frequency of the $n^{th}$ word can be calculated as:\n",
        "\n",
        "## $\\left\\Vert f_n \\right\\Vert_{minmax} = \\frac{f_n-\\min{f}}{\\max{f}-\\min{f}}$\n",
        "\n",
        "where $f_n$ and $\\left\\Vert f_n \\right\\Vert_{minmax}$ are the term frequencies of the $n^{th}$ word before and after min-max normalization; $\\min{f}$,$\\max{f}$ are the minimum and maximum frequencies before normalization."
      ]
    },
    {
      "cell_type": "code",
      "metadata": {
        "id": "Eja1BLiaTThT"
      },
      "source": [
        "#Question_2\n",
        "\n",
        "#Fill out here"
      ],
      "execution_count": null,
      "outputs": []
    },
    {
      "cell_type": "markdown",
      "metadata": {
        "id": "6FHVHVQjd4P1"
      },
      "source": [
        "## Question 3 (10 points): For the 'frequencies' RDD in Question 1, normalize the values of term frequencies through Z-Score Normalization.\n",
        "\n",
        "The Z-Score Normalization term frequency of the $n^{th}$ word can be calculated as:\n",
        "\n",
        "## $\\left\\Vert f_n \\right\\Vert_z = \\frac{f_n - \\mu}{\\sigma}$\n",
        "\n",
        "where $\\mu$ is the mean value of the feature and $\\sigma$ is the standard deviation of the feature. If a value is exactly equal to the mean of all the values of the feature, it will be normalized to 0. If it is below the mean, it will be a negative number, and if it is above the mean it will be a positive number. The size of those negative and positive numbers is determined by the standard deviation of the original feature. If the unnormalized data had a large standard deviation, the normalized values will be closer to 0."
      ]
    },
    {
      "cell_type": "code",
      "metadata": {
        "id": "MJsxix2Xd3-Q"
      },
      "source": [
        "#Question_3\n",
        "import numpy as np # To perform the square root operation, use np.std()\n",
        "\n",
        "#Fill out here"
      ],
      "execution_count": null,
      "outputs": []
    }
  ]
}