{
 "nbformat": 4,
 "nbformat_minor": 0,
 "metadata": {
  "colab": {
   "name": "Homework_5_part1_SQL.ipynb",
   "provenance": [],
   "collapsed_sections": [],
   "toc_visible": true
  },
  "kernelspec": {
   "name": "python3",
   "display_name": "Python 3"
  }
 },
 "cells": [
  {
   "cell_type": "markdown",
   "metadata": {
    "id": "U85LdULCCOhC"
   },
   "source": [
    "# ECE 795 - Big Data\n",
    "## Homework_5_part1 - Querying Google Cloud BigQuery using SQL (Due 3/31, 50 Total Points)\n"
   ]
  },
  {
   "cell_type": "markdown",
   "metadata": {
    "id": "rWLtFEp9IBPI"
   },
   "source": [
    "### Before you begin\n",
    "\n",
    "\n",
    "1.   Create your own project using using the [Cloud Resource Manager](https://console.cloud.google.com/cloud-resource-manager) if you do not already have one.\n",
    "2.   [Enable billing](https://support.google.com/cloud/answer/6293499#enable-billing) for the project.\n",
    "3.   [Enable BigQuery](https://console.cloud.google.com/flows/enableapi?apiid=bigquery) APIs for the project. (should be already enabled)\n",
    "  "
   ]
  },
  {
   "cell_type": "markdown",
   "metadata": {
    "id": "MwBDhFPkDG9g"
   },
   "source": [
    "### Provide your credentials to the runtime"
   ]
  },
  {
   "cell_type": "code",
   "metadata": {
    "id": "E7ekeAY0B-8N"
   },
   "source": [
    "# Authenticate your student profile\n",
    "\n",
    "from google.colab import auth\n",
    "auth.authenticate_user()\n",
    "print('Authenticated')"
   ],
   "execution_count": null,
   "outputs": []
  },
  {
   "cell_type": "markdown",
   "metadata": {
    "id": "9xnYbfpNcMry"
   },
   "source": [
    "### Set the Project ID "
   ]
  },
  {
   "cell_type": "code",
   "metadata": {
    "id": "hxlTrWdvMR_6"
   },
   "source": [
    "project_id = 'ece795-xxxxx'"
   ],
   "execution_count": null,
   "outputs": []
  },
  {
   "cell_type": "markdown",
   "metadata": {
    "id": "DmUc8EeVDjNR"
   },
   "source": [
    "## Example Task\n"
   ]
  },
  {
   "cell_type": "markdown",
   "metadata": {
    "id": "Zbhn0kMuLsl4"
   },
   "source": [
    "### We will use the GSOD sample table contains weather information collected by NOAA, such as precipitation amounts and wind speeds from late 1929 to early 2010."
   ]
  },
  {
   "cell_type": "markdown",
   "metadata": {
    "id": "xQMou5v9cc_l"
   },
   "source": [
    "### You can access BigQuery table via Google-cloud-bigQuery API."
   ]
  },
  {
   "cell_type": "code",
   "metadata": {
    "id": "jeRtgpS0EJB4"
   },
   "source": [
    "from google.cloud import bigquery\n",
    "\n",
    "client = bigquery.Client(project=project_id)\n",
    "\n",
    "row_count = client.query('''\n",
    "  SELECT \n",
    "    COUNT(*) as total\n",
    "  FROM `bigquery-public-data.samples.gsod`''').to_dataframe().total[0]\n",
    "\n",
    "\n",
    "print('Full dataset has %d rows' % row_count)"
   ],
   "execution_count": null,
   "outputs": []
  },
  {
   "cell_type": "markdown",
   "metadata": {
    "id": "Crs_LQHVIf5-"
   },
   "source": [
    "### Return total row count and first 2000 rows from the Table"
   ]
  },
  {
   "cell_type": "code",
   "metadata": {
    "id": "54sQhWTBOwXD"
   },
   "source": [
    "# Using Google Cloud method\n",
    "\n",
    "from google.cloud import bigquery\n",
    "\n",
    "client = bigquery.Client(project=project_id)\n",
    "\n",
    "row_count = client.query('''\n",
    "  SELECT \n",
    "    COUNT(*) as total\n",
    "  FROM `bigquery-public-data.samples.gsod`''').to_dataframe().total[0]\n",
    "\n",
    "df_gc = client.query('''\n",
    "  SELECT\n",
    "    *\n",
    "  FROM\n",
    "    `bigquery-public-data.samples.gsod`\n",
    "  LIMIT 2000\n",
    "''' ).to_dataframe()\n",
    "\n",
    "# top 10 rows\n",
    "df_gc.head(10)\n"
   ],
   "execution_count": null,
   "outputs": []
  },
  {
   "cell_type": "markdown",
   "metadata": {
    "id": "kCzDWMGcPG9Z"
   },
   "source": [
    "### Describe the data in statistical method using GCloud *method*"
   ]
  },
  {
   "cell_type": "code",
   "metadata": {
    "id": "aLHe1rmxO4WC"
   },
   "source": [
    "df_gc.describe()"
   ],
   "execution_count": null,
   "outputs": []
  },
  {
   "cell_type": "markdown",
   "metadata": {
    "id": "OyFnqNU8Pshm"
   },
   "source": [
    "### 10 highest total_precipitation samples\n"
   ]
  },
  {
   "cell_type": "code",
   "metadata": {
    "id": "IPxcqyLeIlox"
   },
   "source": [
    "df_gc.sort_values('total_precipitation', ascending=False).head(10)[['station_number', 'year', 'month', 'day', 'total_precipitation']]"
   ],
   "execution_count": null,
   "outputs": []
  },
  {
   "cell_type": "markdown",
   "metadata": {
    "id": "9nEhd1zmeLfh"
   },
   "source": [
    "# Sample code for USA SSN data\n",
    "### This public dataset was created by the Social Security Administration and contains all names from Social Security card applications for births that occurred in the United States after 1879. "
   ]
  },
  {
   "cell_type": "code",
   "metadata": {
    "id": "9W03tmKeeQor"
   },
   "source": [
    "import pandas as pd\n",
    "\n",
    "sample_count = 2000\n",
    "df = pd.io.gbq.read_gbq('''\n",
    "  SELECT name, SUM(number) as count\n",
    "  FROM `bigquery-public-data.usa_names.usa_1910_2013`\n",
    "  WHERE state = 'TX'\n",
    "  GROUP BY name\n",
    "  ORDER BY count DESC\n",
    "  LIMIT 100\n",
    "''', project_id=project_id, verbose=False, dialect='standard')\n",
    "\n",
    "df.head()"
   ],
   "execution_count": null,
   "outputs": []
  },
  {
   "cell_type": "markdown",
   "metadata": {
    "id": "YVAP_DCOmWRR"
   },
   "source": [
    "# Assignment (10 points each)\n",
    "### Use the Google Political Advertisement analytics dataset to answer the following questions\n",
    "### This data set contains information on how much is spent by verified advertisers on political advertising across Google Ad Services. In addition, insights on demographic targeting used in political ad campaigns by these advertisers are also provided, as are links to the actual political ad in the Google Transparency report.\n",
    "\n",
    "### Reference. \n",
    "https://github.com/umddm/ECE795_Homeworks_Spring2022/blob/homework_5/bigquery.png"
   ]
  },
  {
   "cell_type": "markdown",
   "metadata": {
    "id": "cYHgNtA-g8pw"
   },
   "source": [
    "#### Question 1. From the 'advertiser_stats' table, list the top 20 advertisers and sort them by their total spending in USD \n"
   ]
  },
  {
   "cell_type": "code",
   "metadata": {
    "id": "16j8px5mfFad"
   },
   "source": [
    "# your code here"
   ],
   "execution_count": null,
   "outputs": []
  },
  {
   "cell_type": "markdown",
   "metadata": {
    "id": "O0LPpKxphAut"
   },
   "source": [
    "#### Question 2. From the 'geo spend' table, list the top 10 states by their total spending in USD"
   ]
  },
  {
   "cell_type": "code",
   "metadata": {
    "id": "8M2ZeEu9foKh"
   },
   "source": [
    "# your code here"
   ],
   "execution_count": null,
   "outputs": []
  },
  {
   "cell_type": "markdown",
   "metadata": {
    "id": "V_PPzA0UhESY"
   },
   "source": [
    "#### Question 3. From the 'creative_stats' table, which advertiser had their ads running for the most number of days during the years 2018 and 2019"
   ]
  },
  {
   "cell_type": "code",
   "metadata": {
    "id": "SWUL8HITgQCV"
   },
   "source": [
    "# your code here"
   ],
   "execution_count": null,
   "outputs": []
  },
  {
   "cell_type": "markdown",
   "metadata": {
    "id": "aobTBCxJhKBp"
   },
   "source": [
    "#### Question 4. From the 'covid19_usadacts.deaths' table, list the top 5 counties with the most death cases in 2020."
   ]
  },
  {
   "cell_type": "code",
   "metadata": {
    "id": "dE6Hk09ng4V6"
   },
   "source": [
    "# your code here"
   ],
   "execution_count": null,
   "outputs": []
  },
  {
   "cell_type": "markdown",
   "metadata": {
    "id": "YD1VcMWFiJVi"
   },
   "source": [
    "#### Question 5. From the advertiser_stats, list the heaviest spending advertiser by calculating total_spending divided by total_creatives. For this you need to divide the total_spend_usd / total_creatives to get a ratio of their spending per ad. Sort the list and show only the top 10. "
   ]
  },
  {
   "cell_type": "code",
   "metadata": {
    "id": "AKWw7dv7ip2O"
   },
   "source": [
    "# your code here"
   ],
   "execution_count": null,
   "outputs": []
  }
 ]
}