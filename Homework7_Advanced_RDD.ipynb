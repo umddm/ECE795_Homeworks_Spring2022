{
 "nbformat": 4,
 "nbformat_minor": 0,
 "metadata": {
  "colab": {
   "name": "Homework7 Advanced RDD.ipynb",
   "provenance": [],
   "collapsed_sections": []
  },
  "kernelspec": {
   "name": "python3",
   "display_name": "Python 3"
  }
 },
 "cells": [
  {
   "cell_type": "markdown",
   "metadata": {
    "id": "4FugKl36uD_X",
    "colab_type": "text"
   },
   "source": [
    "# ECE795 Advanced Big Data Analytics Homework 7 (Due 4/21/2022, 60 Total Points)\n",
    "\n",
    "Please create a Dataproc cluster in Google Cloud Platform, access the master node using ssh, and answer the following questions using beeline.\n",
    "\n",
    "In your answers, please provide necessary contents, including commands, screenshots and the outputs of the commands.\n",
    "\n",
    "## Hive and Data Partitioning in GCP\n",
    "\n",
    "Note: in the beeline environment in GCP, all the column names should be quoted by \\`\\` as the valid syntax. An example query can be found in the following."
   ]
  },
  {
   "cell_type": "code",
   "metadata": {
    "id": "-G2t1rAhFSHc",
    "colab_type": "code",
    "colab": {}
   },
   "source": [
    "CREATE EXTERNAL TABLE jobs (\n",
    "   `id` INT, \n",
    "   `title` STRING, \n",
    "   `salary` INT, \n",
    "   `posted` TIMESTAMP\n",
    " )\n",
    " ROW FORMAT DELIMITED\n",
    " FIELDS TERMINATED BY ',';"
   ],
   "execution_count": 0,
   "outputs": []
  },
  {
   "cell_type": "markdown",
   "metadata": {
    "id": "T5md8JSmxmBC",
    "colab_type": "text"
   },
   "source": [
    "### Q1. Please describe three commands available in the beeline and explain their functionality."
   ]
  },
  {
   "cell_type": "code",
   "metadata": {
    "id": "0edJYz63x69n",
    "colab_type": "code",
    "colab": {}
   },
   "source": [
    "# Your answer"
   ],
   "execution_count": 0,
   "outputs": []
  },
  {
   "cell_type": "markdown",
   "metadata": {
    "id": "81kUtuf9xoCz",
    "colab_type": "text"
   },
   "source": [
    "### Q2. Please download `data.csv` file from Github and put it in HDFS (any path that you want but `data.csv` should be the only file in the path).\n"
   ]
  },
  {
   "cell_type": "code",
   "metadata": {
    "id": "6efyFJXDx89I",
    "colab_type": "code",
    "colab": {}
   },
   "source": [
    "# Your answer"
   ],
   "execution_count": 0,
   "outputs": []
  },
  {
   "cell_type": "markdown",
   "metadata": {
    "id": "QxwUcoHCxptK",
    "colab_type": "text"
   },
   "source": [
    "### Q3. To connect to the Hive using beeline, please use the provided command and enter it in the terminal of the master node. In beeline environment, please create a table for the data in data.csv using approriate schema.\n",
    "\n",
    "The names of the columns are `id`, `date`, `currency`, and `rate`. The table records the currency exchange rate for several years."
   ]
  },
  {
   "cell_type": "code",
   "metadata": {
    "id": "I7iMwjeXBHoP",
    "colab_type": "code",
    "colab": {}
   },
   "source": [
    "beeline -u \"jdbc:hive2://localhost:10000\""
   ],
   "execution_count": 0,
   "outputs": []
  },
  {
   "cell_type": "code",
   "metadata": {
    "id": "VBE2kLxvx9eF",
    "colab_type": "code",
    "colab": {}
   },
   "source": [
    "# Your answer"
   ],
   "execution_count": 0,
   "outputs": []
  },
  {
   "cell_type": "markdown",
   "metadata": {
    "id": "av2wj8lnyA9V",
    "colab_type": "text"
   },
   "source": [
    "### Q4. Please show the proof that the data in `data.csv` has been loaded to the created table.\n"
   ]
  },
  {
   "cell_type": "code",
   "metadata": {
    "id": "52g12FjR0mmx",
    "colab_type": "code",
    "colab": {}
   },
   "source": [
    "# Your answer"
   ],
   "execution_count": 0,
   "outputs": []
  },
  {
   "cell_type": "markdown",
   "metadata": {
    "id": "jewO62RE0nvz",
    "colab_type": "text"
   },
   "source": [
    "### Q5. Please use Hive SQL to find the currency with the highest rate between 2005 and 2010."
   ]
  },
  {
   "cell_type": "code",
   "metadata": {
    "id": "uyBujQEZ02Zm",
    "colab_type": "code",
    "colab": {}
   },
   "source": [
    "# Your answer"
   ],
   "execution_count": 0,
   "outputs": []
  },
  {
   "cell_type": "markdown",
   "metadata": {
    "id": "KaxsqO240377",
    "colab_type": "text"
   },
   "source": [
    "### Q6. Please create a table of the same data with data partition using `currency` as the key."
   ]
  },
  {
   "cell_type": "code",
   "metadata": {
    "id": "e1Hu1NwF1HsW",
    "colab_type": "code",
    "colab": {}
   },
   "source": [
    "# Your answer"
   ],
   "execution_count": 0,
   "outputs": []
  },
  {
   "cell_type": "markdown",
   "metadata": {
    "id": "T0lnp6Kn1Imu",
    "colab_type": "text"
   },
   "source": [
    "### Q7. Please discuss the advantages and disadvantages of using (1) `currency`, (2) `date`, and (3) `currency` and `date`, as the key of data partitioning."
   ]
  },
  {
   "cell_type": "code",
   "metadata": {
    "id": "67jnDbAL1QHj",
    "colab_type": "code",
    "colab": {}
   },
   "source": [
    "# Your answer"
   ],
   "execution_count": 0,
   "outputs": []
  }
 ]
}